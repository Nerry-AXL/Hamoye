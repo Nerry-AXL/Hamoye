{
 "cells": [
  {
   "cell_type": "code",
   "execution_count": 1,
   "id": "a454fdab-2916-48e7-8c4b-f1ea64608e3e",
   "metadata": {},
   "outputs": [
    {
     "data": {
      "text/html": [
       "<div>\n",
       "<style scoped>\n",
       "    .dataframe tbody tr th:only-of-type {\n",
       "        vertical-align: middle;\n",
       "    }\n",
       "\n",
       "    .dataframe tbody tr th {\n",
       "        vertical-align: top;\n",
       "    }\n",
       "\n",
       "    .dataframe thead th {\n",
       "        text-align: right;\n",
       "    }\n",
       "</style>\n",
       "<table border=\"1\" class=\"dataframe\">\n",
       "  <thead>\n",
       "    <tr style=\"text-align: right;\">\n",
       "      <th></th>\n",
       "      <th>Area Code</th>\n",
       "      <th>Area</th>\n",
       "      <th>Item Code</th>\n",
       "      <th>Item</th>\n",
       "      <th>Element Code</th>\n",
       "      <th>Element</th>\n",
       "      <th>Unit</th>\n",
       "      <th>Y2014</th>\n",
       "      <th>Y2015</th>\n",
       "      <th>Y2016</th>\n",
       "      <th>Y2017</th>\n",
       "      <th>Y2018</th>\n",
       "    </tr>\n",
       "  </thead>\n",
       "  <tbody>\n",
       "    <tr>\n",
       "      <th>0</th>\n",
       "      <td>4</td>\n",
       "      <td>Algeria</td>\n",
       "      <td>2501</td>\n",
       "      <td>Population</td>\n",
       "      <td>511</td>\n",
       "      <td>Total Population - Both sexes</td>\n",
       "      <td>1000 persons</td>\n",
       "      <td>38924.00</td>\n",
       "      <td>39728.00</td>\n",
       "      <td>40551.00</td>\n",
       "      <td>41389.00</td>\n",
       "      <td>42228.00</td>\n",
       "    </tr>\n",
       "    <tr>\n",
       "      <th>1</th>\n",
       "      <td>4</td>\n",
       "      <td>Algeria</td>\n",
       "      <td>2501</td>\n",
       "      <td>Population</td>\n",
       "      <td>5301</td>\n",
       "      <td>Domestic supply quantity</td>\n",
       "      <td>1000 tonnes</td>\n",
       "      <td>0.00</td>\n",
       "      <td>0.00</td>\n",
       "      <td>0.00</td>\n",
       "      <td>0.00</td>\n",
       "      <td>0.00</td>\n",
       "    </tr>\n",
       "    <tr>\n",
       "      <th>2</th>\n",
       "      <td>4</td>\n",
       "      <td>Algeria</td>\n",
       "      <td>2901</td>\n",
       "      <td>Grand Total</td>\n",
       "      <td>664</td>\n",
       "      <td>Food supply (kcal/capita/day)</td>\n",
       "      <td>kcal/capita/day</td>\n",
       "      <td>3377.00</td>\n",
       "      <td>3379.00</td>\n",
       "      <td>3372.00</td>\n",
       "      <td>3341.00</td>\n",
       "      <td>3322.00</td>\n",
       "    </tr>\n",
       "    <tr>\n",
       "      <th>3</th>\n",
       "      <td>4</td>\n",
       "      <td>Algeria</td>\n",
       "      <td>2901</td>\n",
       "      <td>Grand Total</td>\n",
       "      <td>674</td>\n",
       "      <td>Protein supply quantity (g/capita/day)</td>\n",
       "      <td>g/capita/day</td>\n",
       "      <td>94.90</td>\n",
       "      <td>94.35</td>\n",
       "      <td>94.72</td>\n",
       "      <td>92.82</td>\n",
       "      <td>91.83</td>\n",
       "    </tr>\n",
       "    <tr>\n",
       "      <th>4</th>\n",
       "      <td>4</td>\n",
       "      <td>Algeria</td>\n",
       "      <td>2901</td>\n",
       "      <td>Grand Total</td>\n",
       "      <td>684</td>\n",
       "      <td>Fat supply quantity (g/capita/day)</td>\n",
       "      <td>g/capita/day</td>\n",
       "      <td>80.06</td>\n",
       "      <td>79.36</td>\n",
       "      <td>77.40</td>\n",
       "      <td>80.19</td>\n",
       "      <td>77.28</td>\n",
       "    </tr>\n",
       "  </tbody>\n",
       "</table>\n",
       "</div>"
      ],
      "text/plain": [
       "   Area Code     Area  Item Code         Item  Element Code  \\\n",
       "0          4  Algeria       2501   Population           511   \n",
       "1          4  Algeria       2501   Population          5301   \n",
       "2          4  Algeria       2901  Grand Total           664   \n",
       "3          4  Algeria       2901  Grand Total           674   \n",
       "4          4  Algeria       2901  Grand Total           684   \n",
       "\n",
       "                                  Element             Unit     Y2014  \\\n",
       "0           Total Population - Both sexes     1000 persons  38924.00   \n",
       "1                Domestic supply quantity      1000 tonnes      0.00   \n",
       "2           Food supply (kcal/capita/day)  kcal/capita/day   3377.00   \n",
       "3  Protein supply quantity (g/capita/day)     g/capita/day     94.90   \n",
       "4      Fat supply quantity (g/capita/day)     g/capita/day     80.06   \n",
       "\n",
       "      Y2015     Y2016     Y2017     Y2018  \n",
       "0  39728.00  40551.00  41389.00  42228.00  \n",
       "1      0.00      0.00      0.00      0.00  \n",
       "2   3379.00   3372.00   3341.00   3322.00  \n",
       "3     94.35     94.72     92.82     91.83  \n",
       "4     79.36     77.40     80.19     77.28  "
      ]
     },
     "execution_count": 1,
     "metadata": {},
     "output_type": "execute_result"
    }
   ],
   "source": [
    "import pandas as pd\n",
    "import warnings\n",
    "with warnings.catch_warnings():\n",
    "    warnings.simplefilter(\"ignore\")\n",
    "# Try reading the CSV file with different encodings\n",
    "try:\n",
    "    data = pd.read_csv(\"FoodBalanceSheets_E_Africa_NOFLAG.csv\", encoding='utf-8')\n",
    "except UnicodeDecodeError:\n",
    "    try:\n",
    "        data = pd.read_csv(\"FoodBalanceSheets_E_Africa_NOFLAG.csv\", encoding='latin1')\n",
    "    except UnicodeDecodeError:\n",
    "        try:\n",
    "            data = pd.read_csv(\"FoodBalanceSheets_E_Africa_NOFLAG.csv\", encoding='ISO-8859-1')\n",
    "        except UnicodeDecodeError:\n",
    "            print(\"Unable to read the file with the available encodings.\")\n",
    "            raise\n",
    "# Display the first few rows of the DataFrame\n",
    "data.head()"
   ]
  },
  {
   "cell_type": "code",
   "execution_count": 2,
   "id": "c7093658-32ef-4620-91b9-51863a69b54e",
   "metadata": {},
   "outputs": [
    {
     "name": "stdout",
     "output_type": "stream",
     "text": [
      "The total number of missing values in 2014 is:  1589\n",
      "The percentage of missing values in 2014 is: 2.607%\n"
     ]
    }
   ],
   "source": [
    "# Selecting only the 'Y2014' column\n",
    "y2014_column = data['Y2014']\n",
    "\n",
    "# Counting the missing values in 'Y2014'\n",
    "missing_values_count = y2014_column.isnull().sum()\n",
    "\n",
    "# Checking the total number of entries in 'Y2014'\n",
    "total_entries = len(y2014_column)\n",
    "\n",
    "# Calculating the percentage of missing values\n",
    "percentage_missing = (missing_values_count / total_entries) * 100\n",
    "\n",
    "# Printing the results\n",
    "print(\"The total number of missing values in 2014 is: \", missing_values_count)\n",
    "print(\"The percentage of missing values in 2014 is: {:.3f}%\".format(percentage_missing))"
   ]
  },
  {
   "cell_type": "code",
   "execution_count": 3,
   "id": "d4eb23d5-79fd-4329-ab2d-4b22f3419489",
   "metadata": {},
   "outputs": [
    {
     "name": "stdout",
     "output_type": "stream",
     "text": [
      "The year with the highest sum of Stock Variation is: Y2014\n"
     ]
    }
   ],
   "source": [
    "# Convert the 'Y2014', 'Y2015', 'Y2016', 'Y2017', and 'Y2018' columns to numeric\n",
    "numeric_columns = ['Y2014', 'Y2015', 'Y2016', 'Y2017', 'Y2018']\n",
    "data[numeric_columns] = data[numeric_columns].apply(pd.to_numeric, errors='coerce')\n",
    "\n",
    "# Filter the DataFrame for rows where the 'Element' column is 'Stock Variation'\n",
    "stock_variation_data = data[data['Element'] == 'Stock Variation']\n",
    "\n",
    "# Group by 'Element' and calculate the sum of 'Stock Variation' for each year\n",
    "yearly_stock_variation_sum = stock_variation_data[numeric_columns].sum()\n",
    "\n",
    "# Find the year with the highest sum of 'Stock Variation'\n",
    "highest_stock_variation_year = yearly_stock_variation_sum.idxmax()\n",
    "\n",
    "# Print the result\n",
    "print(\"The year with the highest sum of Stock Variation is:\", highest_stock_variation_year)\n"
   ]
  },
  {
   "cell_type": "code",
   "execution_count": 4,
   "id": "092375d1-c553-4c8b-b1ad-1d351b4a8f27",
   "metadata": {},
   "outputs": [
    {
     "name": "stdout",
     "output_type": "stream",
     "text": [
      "Total sum of Processing in 2017: 292836.0\n"
     ]
    }
   ],
   "source": [
    "\n",
    "# Convert the 'Y2014', 'Y2015', 'Y2016', 'Y2017', and 'Y2018' columns to numeric\n",
    "numeric_columns = ['Y2014', 'Y2015', 'Y2016', 'Y2017', 'Y2018']\n",
    "data[numeric_columns] = data[numeric_columns].apply(pd.to_numeric, errors='coerce')\n",
    "\n",
    "# Filter the DataFrame for rows where the 'Element' column is 'Processing'\n",
    "processing_data = data[data['Element'] == 'Processing']\n",
    "\n",
    "# Filter the DataFrame further to include only data for the year 2017\n",
    "processing_data_2017 = processing_data[['Element', 'Y2017']]\n",
    "\n",
    "# Group by 'Element' and calculate the sum of 'Processing' for the year 2017\n",
    "total_processing_2017 = processing_data_2017.groupby('Element')['Y2017'].sum()\n",
    "\n",
    "# Print the result\n",
    "print(\"Total sum of Processing in 2017:\", total_processing_2017.values[0])\n"
   ]
  },
  {
   "cell_type": "code",
   "execution_count": 5,
   "id": "eb374ab0-709e-4fb8-b687-15ab09e61857",
   "metadata": {},
   "outputs": [
    {
     "name": "stdout",
     "output_type": "stream",
     "text": [
      "The year with the least correlation with 'Element Code' is: Y2016\n"
     ]
    }
   ],
   "source": [
    "# Calculating the correlation between 'Element Code' and each year\n",
    "correlation = data[['Element Code', 'Y2014', 'Y2015', 'Y2016', 'Y2017', 'Y2018']].corr()\n",
    "\n",
    "# Finding the year with the least correlation with 'Element Code'\n",
    "least_correlated_year = correlation.loc['Element Code'].idxmin()\n",
    "\n",
    "# Displaying the result\n",
    "print(\"The year with the least correlation with 'Element Code' is:\", least_correlated_year)"
   ]
  },
  {
   "cell_type": "code",
   "execution_count": 6,
   "id": "cec250ba-7e80-44b4-a4d8-a5d6f4f50492",
   "metadata": {},
   "outputs": [
    {
     "name": "stdout",
     "output_type": "stream",
     "text": [
      "The total sum of Wine produced in 2015 is : 4251.81\n",
      "The total sum of Wine produced in 2018 is : 4039.32\n"
     ]
    }
   ],
   "source": [
    "# Filtering the data for Wine item\n",
    "wine_data = data[data['Item'] == 'Wine']\n",
    "\n",
    "# Grouping by 'Item' and sum the production quantities for 2015 and 2018\n",
    "wine_production_2015 = wine_data.groupby('Item')['Y2015'].sum().iloc[0]\n",
    "wine_production_2018 = wine_data.groupby('Item')['Y2018'].sum().iloc[0]\n",
    "print(\"The total sum of Wine produced in 2015 is :\", wine_production_2015)\n",
    "print(\"The total sum of Wine produced in 2018 is :\", wine_production_2018)"
   ]
  },
  {
   "cell_type": "code",
   "execution_count": 7,
   "id": "edf16d4e-dcd1-4069-afa2-b4dfc6c0af1d",
   "metadata": {},
   "outputs": [
    {
     "name": "stdout",
     "output_type": "stream",
     "text": [
      "The total number of unique countries in the dataset:  49\n"
     ]
    }
   ],
   "source": [
    "# Calculating the total number of unique countries\n",
    "total_unique_countries = data['Area'].nunique()\n",
    "print(\"The total number of unique countries in the dataset: \", total_unique_countries)"
   ]
  },
  {
   "cell_type": "code",
   "execution_count": 8,
   "id": "55a47875-ad57-4f9d-be5c-4fcb19325ba0",
   "metadata": {},
   "outputs": [
    {
     "name": "stdout",
     "output_type": "stream",
     "text": [
      "The mean for the year 2017 is: 140.92\n",
      "THe standard deviation for the year 2017 is: 1671.86\n"
     ]
    }
   ],
   "source": [
    "# Selecting columns for the year 2017\n",
    "data_2017 = data[['Y2017']]\n",
    "\n",
    "# Calculating mean and standard deviation for the year 2017\n",
    "mean_2017 = data_2017.mean().iloc[0]\n",
    "std_dev_2017 = data_2017.std().iloc[0]\n",
    "print(\"The mean for the year 2017 is:\", round(mean_2017, 2))\n",
    "print(\"THe standard deviation for the year 2017 is:\", round(std_dev_2017, 2))"
   ]
  },
  {
   "cell_type": "code",
   "execution_count": 9,
   "id": "e35da824-2b64-405f-80b1-72217a58df5a",
   "metadata": {},
   "outputs": [
    {
     "name": "stdout",
     "output_type": "stream",
     "text": [
      "the total protein supply quantity in Madagascar in 2015 is : 173.04999999999998\n"
     ]
    }
   ],
   "source": [
    "# Filtering the data for Madagascar in 2015 and sum the protein supply quantity\n",
    "madagascar_2015_protein_supply = data[(data['Area'] == 'Madagascar') & (data['Element'] == 'Protein supply quantity (g/capita/day)')]['Y2015'].sum()\n",
    "print(\"the total protein supply quantity in Madagascar in 2015 is :\", madagascar_2015_protein_supply)"
   ]
  },
  {
   "cell_type": "code",
   "execution_count": 10,
   "id": "1079d7ee-431e-4883-b062-2ac13882b87e",
   "metadata": {},
   "outputs": [
    {
     "name": "stdout",
     "output_type": "stream",
     "text": [
      "the area with the 7th lowest sum in 2017 is : Guinea-Bissau\n"
     ]
    }
   ],
   "source": [
    "# Selecting columns 'Y2017' and 'Area'\n",
    "data_2017_area = data[['Y2017', 'Area']]\n",
    "\n",
    "# Grouping by 'Area' and sum the values for 2017\n",
    "sum_2017_by_area = data_2017_area.groupby('Area')['Y2017'].sum()\n",
    "\n",
    "# Sorting the sums in ascending order and finding the 7th lowest\n",
    "seventh_lowest_sum_2017 = sum_2017_by_area.sort_values().iloc[6]\n",
    "\n",
    "# Finding the Area with the 7th lowest sum in 2017\n",
    "area_with_seventh_lowest_sum_2017 = sum_2017_by_area[sum_2017_by_area == seventh_lowest_sum_2017].index[0]\n",
    "print(\"the area with the 7th lowest sum in 2017 is :\", area_with_seventh_lowest_sum_2017)"
   ]
  },
  {
   "cell_type": "code",
   "execution_count": 11,
   "id": "7d13d8ae-7917-44f2-9bd7-56efc309b1fe",
   "metadata": {},
   "outputs": [
    {
     "name": "stdout",
     "output_type": "stream",
     "text": [
      "The area with the highest sum in 2017:  Nigeria\n"
     ]
    }
   ],
   "source": [
    "# Selecting columns 'Y2017' and 'Area'\n",
    "data_2017_area = data[['Y2017', 'Area']]\n",
    "\n",
    "# Grouping by 'Area' and sum the values for 2017\n",
    "sum_2017_by_area = data_2017_area.groupby('Area')['Y2017'].sum()\n",
    "\n",
    "# Finding the Area with the highest sum in 2017\n",
    "area_with_highest_sum_2017 = sum_2017_by_area.idxmax()\n",
    "print(\"The area with the highest sum in 2017: \", area_with_highest_sum_2017)"
   ]
  }
 ],
 "metadata": {
  "kernelspec": {
   "display_name": "Python 3 (ipykernel)",
   "language": "python",
   "name": "python3"
  },
  "language_info": {
   "codemirror_mode": {
    "name": "ipython",
    "version": 3
   },
   "file_extension": ".py",
   "mimetype": "text/x-python",
   "name": "python",
   "nbconvert_exporter": "python",
   "pygments_lexer": "ipython3",
   "version": "3.11.5"
  }
 },
 "nbformat": 4,
 "nbformat_minor": 5
}
